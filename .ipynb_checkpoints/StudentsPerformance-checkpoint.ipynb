{
 "cells": [
  {
   "cell_type": "code",
   "execution_count": 1,
   "metadata": {},
   "outputs": [
    {
     "data": {
      "text/html": [
       "<div>\n",
       "<style scoped>\n",
       "    .dataframe tbody tr th:only-of-type {\n",
       "        vertical-align: middle;\n",
       "    }\n",
       "\n",
       "    .dataframe tbody tr th {\n",
       "        vertical-align: top;\n",
       "    }\n",
       "\n",
       "    .dataframe thead th {\n",
       "        text-align: right;\n",
       "    }\n",
       "</style>\n",
       "<table border=\"1\" class=\"dataframe\">\n",
       "  <thead>\n",
       "    <tr style=\"text-align: right;\">\n",
       "      <th></th>\n",
       "      <th>gender</th>\n",
       "      <th>race/ethnicity</th>\n",
       "      <th>parental level of education</th>\n",
       "      <th>lunch</th>\n",
       "      <th>test preparation course</th>\n",
       "      <th>math score</th>\n",
       "      <th>reading score</th>\n",
       "      <th>writing score</th>\n",
       "    </tr>\n",
       "  </thead>\n",
       "  <tbody>\n",
       "    <tr>\n",
       "      <th>0</th>\n",
       "      <td>female</td>\n",
       "      <td>group B</td>\n",
       "      <td>bachelor's degree</td>\n",
       "      <td>standard</td>\n",
       "      <td>none</td>\n",
       "      <td>72</td>\n",
       "      <td>72</td>\n",
       "      <td>74</td>\n",
       "    </tr>\n",
       "    <tr>\n",
       "      <th>1</th>\n",
       "      <td>female</td>\n",
       "      <td>group C</td>\n",
       "      <td>some college</td>\n",
       "      <td>standard</td>\n",
       "      <td>completed</td>\n",
       "      <td>69</td>\n",
       "      <td>90</td>\n",
       "      <td>88</td>\n",
       "    </tr>\n",
       "    <tr>\n",
       "      <th>2</th>\n",
       "      <td>female</td>\n",
       "      <td>group B</td>\n",
       "      <td>master's degree</td>\n",
       "      <td>standard</td>\n",
       "      <td>none</td>\n",
       "      <td>90</td>\n",
       "      <td>95</td>\n",
       "      <td>93</td>\n",
       "    </tr>\n",
       "    <tr>\n",
       "      <th>3</th>\n",
       "      <td>male</td>\n",
       "      <td>group A</td>\n",
       "      <td>associate's degree</td>\n",
       "      <td>free/reduced</td>\n",
       "      <td>none</td>\n",
       "      <td>47</td>\n",
       "      <td>57</td>\n",
       "      <td>44</td>\n",
       "    </tr>\n",
       "    <tr>\n",
       "      <th>4</th>\n",
       "      <td>male</td>\n",
       "      <td>group C</td>\n",
       "      <td>some college</td>\n",
       "      <td>standard</td>\n",
       "      <td>none</td>\n",
       "      <td>76</td>\n",
       "      <td>78</td>\n",
       "      <td>75</td>\n",
       "    </tr>\n",
       "  </tbody>\n",
       "</table>\n",
       "</div>"
      ],
      "text/plain": [
       "   gender race/ethnicity parental level of education         lunch  \\\n",
       "0  female        group B           bachelor's degree      standard   \n",
       "1  female        group C                some college      standard   \n",
       "2  female        group B             master's degree      standard   \n",
       "3    male        group A          associate's degree  free/reduced   \n",
       "4    male        group C                some college      standard   \n",
       "\n",
       "  test preparation course  math score  reading score  writing score  \n",
       "0                    none          72             72             74  \n",
       "1               completed          69             90             88  \n",
       "2                    none          90             95             93  \n",
       "3                    none          47             57             44  \n",
       "4                    none          76             78             75  "
      ]
     },
     "execution_count": 1,
     "metadata": {},
     "output_type": "execute_result"
    }
   ],
   "source": [
    "import pandas as pd\n",
    "A=pd.read_csv('StudentsPerformance.csv' )\n",
    "A.head()"
   ]
  },
  {
   "cell_type": "code",
   "execution_count": 2,
   "metadata": {},
   "outputs": [
    {
     "name": "stdout",
     "output_type": "stream",
     "text": [
      "<class 'pandas.core.frame.DataFrame'>\n",
      "RangeIndex: 1000 entries, 0 to 999\n",
      "Data columns (total 8 columns):\n",
      " #   Column                       Non-Null Count  Dtype \n",
      "---  ------                       --------------  ----- \n",
      " 0   gender                       1000 non-null   object\n",
      " 1   race/ethnicity               1000 non-null   object\n",
      " 2   parental level of education  1000 non-null   object\n",
      " 3   lunch                        1000 non-null   object\n",
      " 4   test preparation course      1000 non-null   object\n",
      " 5   math score                   1000 non-null   int64 \n",
      " 6   reading score                1000 non-null   int64 \n",
      " 7   writing score                1000 non-null   int64 \n",
      "dtypes: int64(3), object(5)\n",
      "memory usage: 62.6+ KB\n"
     ]
    }
   ],
   "source": [
    "A.info()"
   ]
  },
  {
   "cell_type": "code",
   "execution_count": 3,
   "metadata": {},
   "outputs": [
    {
     "data": {
      "text/html": [
       "<div>\n",
       "<style scoped>\n",
       "    .dataframe tbody tr th:only-of-type {\n",
       "        vertical-align: middle;\n",
       "    }\n",
       "\n",
       "    .dataframe tbody tr th {\n",
       "        vertical-align: top;\n",
       "    }\n",
       "\n",
       "    .dataframe thead th {\n",
       "        text-align: right;\n",
       "    }\n",
       "</style>\n",
       "<table border=\"1\" class=\"dataframe\">\n",
       "  <thead>\n",
       "    <tr style=\"text-align: right;\">\n",
       "      <th></th>\n",
       "      <th>math score</th>\n",
       "      <th>reading score</th>\n",
       "      <th>writing score</th>\n",
       "    </tr>\n",
       "  </thead>\n",
       "  <tbody>\n",
       "    <tr>\n",
       "      <th>count</th>\n",
       "      <td>1000.00000</td>\n",
       "      <td>1000.000000</td>\n",
       "      <td>1000.000000</td>\n",
       "    </tr>\n",
       "    <tr>\n",
       "      <th>mean</th>\n",
       "      <td>66.08900</td>\n",
       "      <td>69.169000</td>\n",
       "      <td>68.054000</td>\n",
       "    </tr>\n",
       "    <tr>\n",
       "      <th>std</th>\n",
       "      <td>15.16308</td>\n",
       "      <td>14.600192</td>\n",
       "      <td>15.195657</td>\n",
       "    </tr>\n",
       "    <tr>\n",
       "      <th>min</th>\n",
       "      <td>0.00000</td>\n",
       "      <td>17.000000</td>\n",
       "      <td>10.000000</td>\n",
       "    </tr>\n",
       "    <tr>\n",
       "      <th>25%</th>\n",
       "      <td>57.00000</td>\n",
       "      <td>59.000000</td>\n",
       "      <td>57.750000</td>\n",
       "    </tr>\n",
       "    <tr>\n",
       "      <th>50%</th>\n",
       "      <td>66.00000</td>\n",
       "      <td>70.000000</td>\n",
       "      <td>69.000000</td>\n",
       "    </tr>\n",
       "    <tr>\n",
       "      <th>75%</th>\n",
       "      <td>77.00000</td>\n",
       "      <td>79.000000</td>\n",
       "      <td>79.000000</td>\n",
       "    </tr>\n",
       "    <tr>\n",
       "      <th>max</th>\n",
       "      <td>100.00000</td>\n",
       "      <td>100.000000</td>\n",
       "      <td>100.000000</td>\n",
       "    </tr>\n",
       "  </tbody>\n",
       "</table>\n",
       "</div>"
      ],
      "text/plain": [
       "       math score  reading score  writing score\n",
       "count  1000.00000    1000.000000    1000.000000\n",
       "mean     66.08900      69.169000      68.054000\n",
       "std      15.16308      14.600192      15.195657\n",
       "min       0.00000      17.000000      10.000000\n",
       "25%      57.00000      59.000000      57.750000\n",
       "50%      66.00000      70.000000      69.000000\n",
       "75%      77.00000      79.000000      79.000000\n",
       "max     100.00000     100.000000     100.000000"
      ]
     },
     "execution_count": 3,
     "metadata": {},
     "output_type": "execute_result"
    }
   ],
   "source": [
    "A.describe()"
   ]
  },
  {
   "cell_type": "code",
   "execution_count": 4,
   "metadata": {},
   "outputs": [
    {
     "data": {
      "text/plain": [
       "female    518\n",
       "male      482\n",
       "Name: gender, dtype: int64"
      ]
     },
     "execution_count": 4,
     "metadata": {},
     "output_type": "execute_result"
    }
   ],
   "source": [
    "A['gender'].value_counts()"
   ]
  },
  {
   "cell_type": "code",
   "execution_count": 5,
   "metadata": {},
   "outputs": [
    {
     "data": {
      "text/plain": [
       "group C    319\n",
       "group D    262\n",
       "group B    190\n",
       "group E    140\n",
       "group A     89\n",
       "Name: race/ethnicity, dtype: int64"
      ]
     },
     "execution_count": 5,
     "metadata": {},
     "output_type": "execute_result"
    }
   ],
   "source": [
    "A['race/ethnicity'].value_counts()"
   ]
  },
  {
   "cell_type": "code",
   "execution_count": 6,
   "metadata": {},
   "outputs": [
    {
     "data": {
      "text/plain": [
       "some college          226\n",
       "associate's degree    222\n",
       "high school           196\n",
       "some high school      179\n",
       "bachelor's degree     118\n",
       "master's degree        59\n",
       "Name: parental level of education, dtype: int64"
      ]
     },
     "execution_count": 6,
     "metadata": {},
     "output_type": "execute_result"
    }
   ],
   "source": [
    "A['parental level of education'].value_counts()"
   ]
  },
  {
   "cell_type": "code",
   "execution_count": 7,
   "metadata": {},
   "outputs": [
    {
     "data": {
      "text/plain": [
       "standard        645\n",
       "free/reduced    355\n",
       "Name: lunch, dtype: int64"
      ]
     },
     "execution_count": 7,
     "metadata": {},
     "output_type": "execute_result"
    }
   ],
   "source": [
    "A['lunch'].value_counts()"
   ]
  },
  {
   "cell_type": "code",
   "execution_count": 8,
   "metadata": {},
   "outputs": [
    {
     "data": {
      "text/plain": [
       "none         642\n",
       "completed    358\n",
       "Name: test preparation course, dtype: int64"
      ]
     },
     "execution_count": 8,
     "metadata": {},
     "output_type": "execute_result"
    }
   ],
   "source": [
    "A['test preparation course'].value_counts()"
   ]
  },
  {
   "cell_type": "code",
   "execution_count": 9,
   "metadata": {},
   "outputs": [
    {
     "data": {
      "text/html": [
       "<div>\n",
       "<style scoped>\n",
       "    .dataframe tbody tr th:only-of-type {\n",
       "        vertical-align: middle;\n",
       "    }\n",
       "\n",
       "    .dataframe tbody tr th {\n",
       "        vertical-align: top;\n",
       "    }\n",
       "\n",
       "    .dataframe thead th {\n",
       "        text-align: right;\n",
       "    }\n",
       "</style>\n",
       "<table border=\"1\" class=\"dataframe\">\n",
       "  <thead>\n",
       "    <tr style=\"text-align: right;\">\n",
       "      <th></th>\n",
       "      <th>gender</th>\n",
       "      <th>parental level of education</th>\n",
       "      <th>lunch</th>\n",
       "      <th>test preparation course</th>\n",
       "      <th>math score</th>\n",
       "      <th>reading score</th>\n",
       "      <th>writing score</th>\n",
       "    </tr>\n",
       "    <tr>\n",
       "      <th>race/ethnicity</th>\n",
       "      <th></th>\n",
       "      <th></th>\n",
       "      <th></th>\n",
       "      <th></th>\n",
       "      <th></th>\n",
       "      <th></th>\n",
       "      <th></th>\n",
       "    </tr>\n",
       "  </thead>\n",
       "  <tbody>\n",
       "    <tr>\n",
       "      <th>group A</th>\n",
       "      <td>female</td>\n",
       "      <td>some college</td>\n",
       "      <td>standard</td>\n",
       "      <td>completed</td>\n",
       "      <td>72</td>\n",
       "      <td>79</td>\n",
       "      <td>82</td>\n",
       "    </tr>\n",
       "    <tr>\n",
       "      <th>group A</th>\n",
       "      <td>female</td>\n",
       "      <td>some high school</td>\n",
       "      <td>standard</td>\n",
       "      <td>completed</td>\n",
       "      <td>92</td>\n",
       "      <td>100</td>\n",
       "      <td>97</td>\n",
       "    </tr>\n",
       "    <tr>\n",
       "      <th>group A</th>\n",
       "      <td>female</td>\n",
       "      <td>some high school</td>\n",
       "      <td>standard</td>\n",
       "      <td>completed</td>\n",
       "      <td>85</td>\n",
       "      <td>90</td>\n",
       "      <td>92</td>\n",
       "    </tr>\n",
       "    <tr>\n",
       "      <th>group A</th>\n",
       "      <td>female</td>\n",
       "      <td>associate's degree</td>\n",
       "      <td>free/reduced</td>\n",
       "      <td>none</td>\n",
       "      <td>37</td>\n",
       "      <td>57</td>\n",
       "      <td>56</td>\n",
       "    </tr>\n",
       "    <tr>\n",
       "      <th>group A</th>\n",
       "      <td>male</td>\n",
       "      <td>some college</td>\n",
       "      <td>standard</td>\n",
       "      <td>none</td>\n",
       "      <td>69</td>\n",
       "      <td>67</td>\n",
       "      <td>69</td>\n",
       "    </tr>\n",
       "  </tbody>\n",
       "</table>\n",
       "</div>"
      ],
      "text/plain": [
       "                gender parental level of education         lunch  \\\n",
       "race/ethnicity                                                     \n",
       "group A         female                some college      standard   \n",
       "group A         female            some high school      standard   \n",
       "group A         female            some high school      standard   \n",
       "group A         female          associate's degree  free/reduced   \n",
       "group A           male                some college      standard   \n",
       "\n",
       "               test preparation course  math score  reading score  \\\n",
       "race/ethnicity                                                      \n",
       "group A                      completed          72             79   \n",
       "group A                      completed          92            100   \n",
       "group A                      completed          85             90   \n",
       "group A                           none          37             57   \n",
       "group A                           none          69             67   \n",
       "\n",
       "                writing score  \n",
       "race/ethnicity                 \n",
       "group A                    82  \n",
       "group A                    97  \n",
       "group A                    92  \n",
       "group A                    56  \n",
       "group A                    69  "
      ]
     },
     "execution_count": 9,
     "metadata": {},
     "output_type": "execute_result"
    }
   ],
   "source": [
    "A1 = A.set_index(\"race/ethnicity\")\n",
    "A1 = A1.sort_index()\n",
    "A1.head()"
   ]
  },
  {
   "cell_type": "code",
   "execution_count": 10,
   "metadata": {},
   "outputs": [
    {
     "name": "stdout",
     "output_type": "stream",
     "text": [
      "Mean Score:  66.089\n",
      "Standard deviation: 15.16308009600945\n",
      "Minimum Scores:  0\n",
      "Maximum Scores:  100\n"
     ]
    }
   ],
   "source": [
    "Maths_Scores=A['math score']\n",
    "print(\"Mean Score: \", Maths_Scores.mean())\n",
    "print(\"Standard deviation:\", Maths_Scores.std())\n",
    "print(\"Minimum Scores: \", Maths_Scores.min())\n",
    "print(\"Maximum Scores: \", Maths_Scores.max())"
   ]
  },
  {
   "cell_type": "code",
   "execution_count": 11,
   "metadata": {},
   "outputs": [
    {
     "name": "stdout",
     "output_type": "stream",
     "text": [
      "Mean Score:  69.169\n",
      "Standard deviation: 14.600191937252216\n",
      "Minimum Scores:  17\n",
      "Maximum Scores:  100\n"
     ]
    }
   ],
   "source": [
    "Reading_Scores=A['reading score']\n",
    "print(\"Mean Score: \", Reading_Scores.mean())\n",
    "print(\"Standard deviation:\", Reading_Scores.std())\n",
    "print(\"Minimum Scores: \", Reading_Scores.min())\n",
    "print(\"Maximum Scores: \", Reading_Scores.max())"
   ]
  },
  {
   "cell_type": "code",
   "execution_count": 12,
   "metadata": {},
   "outputs": [
    {
     "name": "stdout",
     "output_type": "stream",
     "text": [
      "Mean Score:  68.054\n",
      "Standard deviation: 15.19565701086965\n",
      "Minimum Scores:  10\n",
      "Maximum Scores:  100\n"
     ]
    }
   ],
   "source": [
    "Writing_Scores=A['writing score']\n",
    "print(\"Mean Score: \", Writing_Scores.mean())\n",
    "print(\"Standard deviation:\", Writing_Scores.std())\n",
    "print(\"Minimum Scores: \", Writing_Scores.min())\n",
    "print(\"Maximum Scores: \", Writing_Scores.max())"
   ]
  },
  {
   "cell_type": "code",
   "execution_count": 13,
   "metadata": {},
   "outputs": [
    {
     "ename": "NameError",
     "evalue": "name 'plt' is not defined",
     "output_type": "error",
     "traceback": [
      "\u001b[1;31m---------------------------------------------------------------------------\u001b[0m",
      "\u001b[1;31mNameError\u001b[0m                                 Traceback (most recent call last)",
      "\u001b[1;32m<ipython-input-13-61b94fbdf921>\u001b[0m in \u001b[0;36m<module>\u001b[1;34m\u001b[0m\n\u001b[1;32m----> 1\u001b[1;33m \u001b[0mfig\u001b[0m\u001b[1;33m,\u001b[0m \u001b[0max\u001b[0m \u001b[1;33m=\u001b[0m \u001b[0mplt\u001b[0m\u001b[1;33m.\u001b[0m\u001b[0msubplots\u001b[0m\u001b[1;33m(\u001b[0m\u001b[1;36m1\u001b[0m\u001b[1;33m,\u001b[0m \u001b[1;36m1\u001b[0m\u001b[1;33m,\u001b[0m \u001b[0mfigsize\u001b[0m\u001b[1;33m=\u001b[0m\u001b[1;33m(\u001b[0m\u001b[1;36m12\u001b[0m\u001b[1;33m,\u001b[0m \u001b[1;36m8\u001b[0m\u001b[1;33m)\u001b[0m\u001b[1;33m)\u001b[0m\u001b[1;33m\u001b[0m\u001b[1;33m\u001b[0m\u001b[0m\n\u001b[0m\u001b[0;32m      2\u001b[0m \u001b[0msns\u001b[0m\u001b[1;33m.\u001b[0m\u001b[0mbarplot\u001b[0m\u001b[1;33m(\u001b[0m\u001b[0mx\u001b[0m\u001b[1;33m=\u001b[0m\u001b[1;34m\"parental level of education\"\u001b[0m\u001b[1;33m,\u001b[0m \u001b[0my\u001b[0m\u001b[1;33m=\u001b[0m\u001b[1;34m\"math score\"\u001b[0m\u001b[1;33m,\u001b[0m \u001b[0mhue\u001b[0m\u001b[1;33m=\u001b[0m\u001b[1;34m\"gender\"\u001b[0m\u001b[1;33m,\u001b[0m \u001b[0mdata\u001b[0m\u001b[1;33m=\u001b[0m\u001b[0mA\u001b[0m\u001b[1;33m)\u001b[0m\u001b[1;33m\u001b[0m\u001b[1;33m\u001b[0m\u001b[0m\n",
      "\u001b[1;31mNameError\u001b[0m: name 'plt' is not defined"
     ]
    }
   ],
   "source": [
    "\n",
    "fig, ax = plt.subplots(1, 1, figsize=(12, 8))\n",
    "sns.barplot(x=\"parental level of education\", y=\"math score\", hue=\"gender\", data=A)"
   ]
  },
  {
   "cell_type": "code",
   "execution_count": null,
   "metadata": {},
   "outputs": [],
   "source": [
    "fig, ax = plt.subplots(1, 1, figsize=(12, 8))\n",
    "sns.barplot(x=\"parental level of education\", y=\"reading score\", hue=\"gender\", data=A)"
   ]
  },
  {
   "cell_type": "code",
   "execution_count": null,
   "metadata": {},
   "outputs": [],
   "source": [
    "fig, ax = plt.subplots(1, 1, figsize=(12, 8))\n",
    "sns.barplot(x=\"parental level of education\", y=\"writing score\", hue=\"gender\", data=A)"
   ]
  },
  {
   "cell_type": "code",
   "execution_count": null,
   "metadata": {},
   "outputs": [],
   "source": [
    "fig, ax = plt.subplots(1, 1, figsize=(12, 8))\n",
    "sns.barplot(x=\"test preparation course\", y=\"math score\", hue=\"gender\", data=A)"
   ]
  },
  {
   "cell_type": "code",
   "execution_count": null,
   "metadata": {},
   "outputs": [],
   "source": [
    "fig, ax = plt.subplots(1, 1, figsize=(12, 8))\n",
    "sns.barplot(x=\"test preparation course\", y=\"reading score\", hue=\"gender\", data=A)"
   ]
  },
  {
   "cell_type": "code",
   "execution_count": null,
   "metadata": {},
   "outputs": [],
   "source": [
    "fig, ax = plt.subplots(1, 1, figsize=(12, 8))\n",
    "sns.barplot(x=\"test preparation course\", y=\"writing score\", hue=\"gender\", data=A)"
   ]
  },
  {
   "cell_type": "code",
   "execution_count": null,
   "metadata": {},
   "outputs": [],
   "source": [
    "import numpy as np\n",
    "Avg_Grade_Across_race_ethnicity=A.pivot_table(index=['race/ethnicity','gender','parental level of education','lunch','test preparation course']).apply(np.mean, axis=1)\n",
    "Avg_Grade_Across_race_ethnicity[:40]"
   ]
  },
  {
   "cell_type": "code",
   "execution_count": null,
   "metadata": {},
   "outputs": [],
   "source": [
    "Ap=A.pivot_table(index=['race/ethnicity']).apply(np.mean, axis=1)\n",
    "Ap"
   ]
  },
  {
   "cell_type": "code",
   "execution_count": null,
   "metadata": {},
   "outputs": [],
   "source": [
    "import matplotlib.pyplot as plt\n",
    "import seaborn as sns; sns.set()\n",
    "fig, ax = plt.subplots(1, 1, figsize=(12, 8))\n",
    "Ap.plot.bar(ax=ax)"
   ]
  },
  {
   "cell_type": "code",
   "execution_count": null,
   "metadata": {},
   "outputs": [],
   "source": [
    "A2 = A[['math score','reading score','writing score']].groupby(A['race/ethnicity']).sum()\n",
    "A2"
   ]
  },
  {
   "cell_type": "code",
   "execution_count": null,
   "metadata": {},
   "outputs": [],
   "source": [
    "fig, ax = plt.subplots(1, 1, figsize=(12, 8))\n",
    "A2.plot.bar(ax=ax)"
   ]
  },
  {
   "cell_type": "code",
   "execution_count": null,
   "metadata": {},
   "outputs": [],
   "source": [
    "A3 = A[['math score','reading score','writing score']].groupby(A['gender']).sum()\n",
    "A3"
   ]
  },
  {
   "cell_type": "code",
   "execution_count": null,
   "metadata": {},
   "outputs": [],
   "source": [
    "fig, ax = plt.subplots(1, 1, figsize=(12, 8))\n",
    "A3.plot.bar(ax=ax)"
   ]
  },
  {
   "cell_type": "code",
   "execution_count": null,
   "metadata": {},
   "outputs": [],
   "source": [
    "A4 = A[['math score','reading score','writing score']].groupby(A['lunch']).sum()\n",
    "A4"
   ]
  },
  {
   "cell_type": "code",
   "execution_count": null,
   "metadata": {},
   "outputs": [],
   "source": [
    "fig, ax = plt.subplots(1, 1, figsize=(12, 8))\n",
    "A4.plot.bar(ax=ax)"
   ]
  },
  {
   "cell_type": "code",
   "execution_count": null,
   "metadata": {},
   "outputs": [],
   "source": [
    "A5 = A[['math score','reading score','writing score']].groupby(A['test preparation course']).sum()\n",
    "A5"
   ]
  },
  {
   "cell_type": "code",
   "execution_count": null,
   "metadata": {},
   "outputs": [],
   "source": [
    "fig, ax = plt.subplots(1, 1, figsize=(12, 8))\n",
    "A5.plot.bar(ax=ax)"
   ]
  },
  {
   "cell_type": "code",
   "execution_count": null,
   "metadata": {},
   "outputs": [],
   "source": [
    "A6 = A[['math score','reading score','writing score']].groupby(A['parental level of education']).sum()\n",
    "A6"
   ]
  },
  {
   "cell_type": "code",
   "execution_count": null,
   "metadata": {},
   "outputs": [],
   "source": [
    "fig, ax = plt.subplots(1, 1, figsize=(12, 8))\n",
    "A6.plot.bar(ax=ax)"
   ]
  },
  {
   "cell_type": "code",
   "execution_count": null,
   "metadata": {},
   "outputs": [],
   "source": [
    "A7 = A.groupby(['parental level of education','lunch'])[['math score','reading score','writing score']].sum()\n",
    "A7"
   ]
  },
  {
   "cell_type": "code",
   "execution_count": null,
   "metadata": {},
   "outputs": [],
   "source": [
    "A8 = A.groupby(['parental level of education','race/ethnicity'])[['math score','reading score','writing score']].sum()\n",
    "A8"
   ]
  },
  {
   "cell_type": "code",
   "execution_count": null,
   "metadata": {},
   "outputs": [],
   "source": [
    "# let's check the race/ethnicity in line with this parameters: gender,parental level of education,lunch,test preparation course,math score,reading score,writing score\n",
    "def race_ethnicity(x):\n",
    "    return A[(A['race/ethnicity'] == x)][['gender','parental level of education','lunch','test preparation course','math score','reading score','writing score']]\n",
    "race_ethnicity(\"group A\")"
   ]
  },
  {
   "cell_type": "code",
   "execution_count": null,
   "metadata": {},
   "outputs": [],
   "source": [
    "fig, ax = plt.subplots(1, 1, figsize=(12, 8))\n",
    "sns.barplot(x=\"test preparation course\", y=\"math score\", hue=\"gender\", data=race_ethnicity(\"group A\"))"
   ]
  },
  {
   "cell_type": "code",
   "execution_count": null,
   "metadata": {},
   "outputs": [],
   "source": [
    "fig, ax = plt.subplots(1, 1, figsize=(12, 8))\n",
    "sns.barplot(x=\"test preparation course\", y=\"reading score\", hue=\"gender\", data=race_ethnicity(\"group A\"))"
   ]
  },
  {
   "cell_type": "code",
   "execution_count": null,
   "metadata": {},
   "outputs": [],
   "source": [
    "fig, ax = plt.subplots(1, 1, figsize=(12, 8))\n",
    "sns.barplot(x=\"test preparation course\", y=\"writing score\", hue=\"gender\", data=race_ethnicity(\"group A\"))"
   ]
  },
  {
   "cell_type": "code",
   "execution_count": null,
   "metadata": {},
   "outputs": [],
   "source": [
    "fig, ax = plt.subplots(1, 1, figsize=(12, 8))\n",
    "sns.barplot(x=\"parental level of education\", y=\"math score\", hue=\"gender\", data=race_ethnicity(\"group A\"))"
   ]
  },
  {
   "cell_type": "code",
   "execution_count": null,
   "metadata": {},
   "outputs": [],
   "source": [
    "fig, ax = plt.subplots(1, 1, figsize=(12, 8))\n",
    "sns.barplot(x=\"parental level of education\", y=\"math score\", hue=\"gender\", data=race_ethnicity(\"group A\"))"
   ]
  },
  {
   "cell_type": "code",
   "execution_count": null,
   "metadata": {},
   "outputs": [],
   "source": [
    "fig, ax = plt.subplots(1, 1, figsize=(12, 8))\n",
    "sns.barplot(x=\"parental level of education\", y=\"math score\", hue=\"gender\", data=race_ethnicity(\"group A\"))"
   ]
  },
  {
   "cell_type": "code",
   "execution_count": null,
   "metadata": {},
   "outputs": [],
   "source": [
    "fig, ax = plt.subplots(1, 1, figsize=(12, 8))\n",
    "sns.barplot(x=\"lunch\", y=\"math score\", hue=\"gender\", data=race_ethnicity(\"group A\"))"
   ]
  },
  {
   "cell_type": "code",
   "execution_count": null,
   "metadata": {},
   "outputs": [],
   "source": [
    "fig, ax = plt.subplots(1, 1, figsize=(12, 8))\n",
    "sns.barplot(x=\"lunch\", y=\"reading score\", hue=\"gender\", data=race_ethnicity(\"group A\"))"
   ]
  },
  {
   "cell_type": "code",
   "execution_count": null,
   "metadata": {},
   "outputs": [],
   "source": [
    "fig, ax = plt.subplots(1, 1, figsize=(12, 8))\n",
    "sns.barplot(x=\"lunch\", y=\"writing score\", hue=\"gender\", data=race_ethnicity(\"group A\"))"
   ]
  },
  {
   "cell_type": "code",
   "execution_count": null,
   "metadata": {},
   "outputs": [],
   "source": [
    "race_ethnicity(\"group B\")"
   ]
  },
  {
   "cell_type": "code",
   "execution_count": null,
   "metadata": {},
   "outputs": [],
   "source": [
    "fig, ax = plt.subplots(1, 1, figsize=(12, 8))\n",
    "sns.barplot(x=\"test preparation course\", y=\"math score\", hue=\"gender\", data=race_ethnicity(\"group B\"))"
   ]
  },
  {
   "cell_type": "code",
   "execution_count": null,
   "metadata": {},
   "outputs": [],
   "source": [
    "fig, ax = plt.subplots(1, 1, figsize=(12, 8))\n",
    "sns.barplot(x=\"test preparation course\", y=\"reading score\", hue=\"gender\", data=race_ethnicity(\"group B\"))"
   ]
  },
  {
   "cell_type": "code",
   "execution_count": null,
   "metadata": {},
   "outputs": [],
   "source": [
    "fig, ax = plt.subplots(1, 1, figsize=(12, 8))\n",
    "sns.barplot(x=\"test preparation course\", y=\"writing score\", hue=\"gender\", data=race_ethnicity(\"group B\"))"
   ]
  },
  {
   "cell_type": "code",
   "execution_count": null,
   "metadata": {},
   "outputs": [],
   "source": [
    "fig, ax = plt.subplots(1, 1, figsize=(12, 8))\n",
    "sns.barplot(x=\"parental level of education\", y=\"math score\", hue=\"gender\", data=race_ethnicity(\"group B\"))"
   ]
  },
  {
   "cell_type": "code",
   "execution_count": null,
   "metadata": {},
   "outputs": [],
   "source": [
    "fig, ax = plt.subplots(1, 1, figsize=(12, 8))\n",
    "sns.barplot(x=\"parental level of education\", y=\"reading score\", hue=\"gender\", data=race_ethnicity(\"group B\"))"
   ]
  },
  {
   "cell_type": "code",
   "execution_count": null,
   "metadata": {},
   "outputs": [],
   "source": [
    "fig, ax = plt.subplots(1, 1, figsize=(12, 8))\n",
    "sns.barplot(x=\"parental level of education\", y=\"writing score\", hue=\"gender\", data=race_ethnicity(\"group B\"))"
   ]
  },
  {
   "cell_type": "code",
   "execution_count": null,
   "metadata": {},
   "outputs": [],
   "source": [
    "fig, ax = plt.subplots(1, 1, figsize=(12, 8))\n",
    "sns.barplot(x=\"lunch\", y=\"math score\", hue=\"gender\", data=race_ethnicity(\"group B\"))"
   ]
  },
  {
   "cell_type": "code",
   "execution_count": null,
   "metadata": {},
   "outputs": [],
   "source": [
    "fig, ax = plt.subplots(1, 1, figsize=(12, 8))\n",
    "sns.barplot(x=\"lunch\", y=\"reading score\", hue=\"gender\", data=race_ethnicity(\"group B\"))"
   ]
  },
  {
   "cell_type": "code",
   "execution_count": null,
   "metadata": {},
   "outputs": [],
   "source": [
    "fig, ax = plt.subplots(1, 1, figsize=(12, 8))\n",
    "sns.barplot(x=\"lunch\", y=\"writing score\", hue=\"gender\", data=race_ethnicity(\"group B\"))"
   ]
  },
  {
   "cell_type": "code",
   "execution_count": null,
   "metadata": {},
   "outputs": [],
   "source": [
    "race_ethnicity(\"group C\")"
   ]
  },
  {
   "cell_type": "code",
   "execution_count": null,
   "metadata": {},
   "outputs": [],
   "source": [
    "fig, ax = plt.subplots(1, 1, figsize=(12, 8))\n",
    "sns.barplot(x=\"test preparation course\", y=\"math score\", hue=\"gender\", data=race_ethnicity(\"group C\"))"
   ]
  },
  {
   "cell_type": "code",
   "execution_count": null,
   "metadata": {},
   "outputs": [],
   "source": [
    "fig, ax = plt.subplots(1, 1, figsize=(12, 8))\n",
    "sns.barplot(x=\"test preparation course\", y=\"reading score\", hue=\"gender\", data=race_ethnicity(\"group C\"))"
   ]
  },
  {
   "cell_type": "code",
   "execution_count": null,
   "metadata": {},
   "outputs": [],
   "source": [
    "fig, ax = plt.subplots(1, 1, figsize=(12, 8))\n",
    "sns.barplot(x=\"test preparation course\", y=\"writing score\", hue=\"gender\", data=race_ethnicity(\"group C\"))"
   ]
  },
  {
   "cell_type": "code",
   "execution_count": null,
   "metadata": {},
   "outputs": [],
   "source": [
    "fig, ax = plt.subplots(1, 1, figsize=(12, 8))\n",
    "sns.barplot(x=\"parental level of education\", y=\"math score\", hue=\"gender\", data=race_ethnicity(\"group C\"))"
   ]
  },
  {
   "cell_type": "code",
   "execution_count": null,
   "metadata": {},
   "outputs": [],
   "source": [
    "fig, ax = plt.subplots(1, 1, figsize=(12, 8))\n",
    "sns.barplot(x=\"parental level of education\", y=\"reading score\", hue=\"gender\", data=race_ethnicity(\"group C\"))"
   ]
  },
  {
   "cell_type": "code",
   "execution_count": null,
   "metadata": {},
   "outputs": [],
   "source": [
    "fig, ax = plt.subplots(1, 1, figsize=(12, 8))\n",
    "sns.barplot(x=\"parental level of education\", y=\"writing score\", hue=\"gender\", data=race_ethnicity(\"group C\"))"
   ]
  },
  {
   "cell_type": "code",
   "execution_count": null,
   "metadata": {},
   "outputs": [],
   "source": [
    "fig, ax = plt.subplots(1, 1, figsize=(12, 8))\n",
    "sns.barplot(x=\"lunch\", y=\"math score\", hue=\"gender\", data=race_ethnicity(\"group C\"))"
   ]
  },
  {
   "cell_type": "code",
   "execution_count": null,
   "metadata": {},
   "outputs": [],
   "source": [
    "fig, ax = plt.subplots(1, 1, figsize=(12, 8))\n",
    "sns.barplot(x=\"lunch\", y=\"reading score\", hue=\"gender\", data=race_ethnicity(\"group C\"))"
   ]
  },
  {
   "cell_type": "code",
   "execution_count": null,
   "metadata": {},
   "outputs": [],
   "source": [
    "fig, ax = plt.subplots(1, 1, figsize=(12, 8))\n",
    "sns.barplot(x=\"lunch\", y=\"writing score\", hue=\"gender\", data=race_ethnicity(\"group C\"))"
   ]
  },
  {
   "cell_type": "code",
   "execution_count": null,
   "metadata": {},
   "outputs": [],
   "source": [
    "race_ethnicity(\"group D\")"
   ]
  },
  {
   "cell_type": "code",
   "execution_count": null,
   "metadata": {},
   "outputs": [],
   "source": [
    "fig, ax = plt.subplots(1, 1, figsize=(12, 8))\n",
    "sns.barplot(x=\"test preparation course\", y=\"math score\", hue=\"gender\", data=race_ethnicity(\"group D\"))"
   ]
  },
  {
   "cell_type": "code",
   "execution_count": null,
   "metadata": {},
   "outputs": [],
   "source": [
    "fig, ax = plt.subplots(1, 1, figsize=(12, 8))\n",
    "sns.barplot(x=\"test preparation course\", y=\"reading score\", hue=\"gender\", data=race_ethnicity(\"group D\"))"
   ]
  },
  {
   "cell_type": "code",
   "execution_count": null,
   "metadata": {},
   "outputs": [],
   "source": [
    "fig, ax = plt.subplots(1, 1, figsize=(12, 8))\n",
    "sns.barplot(x=\"test preparation course\", y=\"writing score\", hue=\"gender\", data=race_ethnicity(\"group D\"))"
   ]
  },
  {
   "cell_type": "code",
   "execution_count": null,
   "metadata": {},
   "outputs": [],
   "source": [
    "fig, ax = plt.subplots(1, 1, figsize=(12, 8))\n",
    "sns.barplot(x=\"parental level of education\", y=\"math score\", hue=\"gender\", data=race_ethnicity(\"group D\"))"
   ]
  },
  {
   "cell_type": "code",
   "execution_count": null,
   "metadata": {},
   "outputs": [],
   "source": [
    "fig, ax = plt.subplots(1, 1, figsize=(12, 8))\n",
    "sns.barplot(x=\"parental level of education\", y=\"reading score\", hue=\"gender\", data=race_ethnicity(\"group D\"))"
   ]
  },
  {
   "cell_type": "code",
   "execution_count": null,
   "metadata": {},
   "outputs": [],
   "source": [
    "fig, ax = plt.subplots(1, 1, figsize=(12, 8))\n",
    "sns.barplot(x=\"parental level of education\", y=\"writing score\", hue=\"gender\", data=race_ethnicity(\"group D\"))"
   ]
  },
  {
   "cell_type": "code",
   "execution_count": null,
   "metadata": {},
   "outputs": [],
   "source": [
    "fig, ax = plt.subplots(1, 1, figsize=(12, 8))\n",
    "sns.barplot(x=\"lunch\", y=\"math score\", hue=\"gender\", data=race_ethnicity(\"group D\"))"
   ]
  },
  {
   "cell_type": "code",
   "execution_count": null,
   "metadata": {},
   "outputs": [],
   "source": [
    "fig, ax = plt.subplots(1, 1, figsize=(12, 8))\n",
    "sns.barplot(x=\"lunch\", y=\"reading score\", hue=\"gender\", data=race_ethnicity(\"group D\"))"
   ]
  },
  {
   "cell_type": "code",
   "execution_count": null,
   "metadata": {},
   "outputs": [],
   "source": [
    "fig, ax = plt.subplots(1, 1, figsize=(12, 8))\n",
    "sns.barplot(x=\"lunch\", y=\"writing score\", hue=\"gender\", data=race_ethnicity(\"group D\"))"
   ]
  },
  {
   "cell_type": "code",
   "execution_count": null,
   "metadata": {},
   "outputs": [],
   "source": [
    "race_ethnicity(\"group E\")"
   ]
  },
  {
   "cell_type": "code",
   "execution_count": null,
   "metadata": {},
   "outputs": [],
   "source": [
    "fig, ax = plt.subplots(1, 1, figsize=(12, 8))\n",
    "sns.barplot(x=\"test preparation course\", y=\"math score\", hue=\"gender\", data=race_ethnicity(\"group E\"))"
   ]
  },
  {
   "cell_type": "code",
   "execution_count": null,
   "metadata": {},
   "outputs": [],
   "source": [
    "fig, ax = plt.subplots(1, 1, figsize=(12, 8))\n",
    "sns.barplot(x=\"test preparation course\", y=\"reading score\", hue=\"gender\", data=race_ethnicity(\"group E\"))"
   ]
  },
  {
   "cell_type": "code",
   "execution_count": null,
   "metadata": {},
   "outputs": [],
   "source": [
    "fig, ax = plt.subplots(1, 1, figsize=(12, 8))\n",
    "sns.barplot(x=\"test preparation course\", y=\"writing score\", hue=\"gender\", data=race_ethnicity(\"group E\"))"
   ]
  },
  {
   "cell_type": "code",
   "execution_count": null,
   "metadata": {},
   "outputs": [],
   "source": [
    "fig, ax = plt.subplots(1, 1, figsize=(12, 8))\n",
    "sns.barplot(x=\"parental level of education\", y=\"math score\", hue=\"gender\", data=race_ethnicity(\"group E\"))"
   ]
  },
  {
   "cell_type": "code",
   "execution_count": null,
   "metadata": {},
   "outputs": [],
   "source": [
    "fig, ax = plt.subplots(1, 1, figsize=(12, 8))\n",
    "sns.barplot(x=\"parental level of education\", y=\"reading score\", hue=\"gender\", data=race_ethnicity(\"group E\"))"
   ]
  },
  {
   "cell_type": "code",
   "execution_count": null,
   "metadata": {},
   "outputs": [],
   "source": [
    "fig, ax = plt.subplots(1, 1, figsize=(12, 8))\n",
    "sns.barplot(x=\"parental level of education\", y=\"writing score\", hue=\"gender\", data=race_ethnicity(\"group E\"))"
   ]
  },
  {
   "cell_type": "code",
   "execution_count": null,
   "metadata": {},
   "outputs": [],
   "source": [
    "fig, ax = plt.subplots(1, 1, figsize=(12, 8))\n",
    "sns.barplot(x=\"lunch\", y=\"math score\", hue=\"gender\", data=race_ethnicity(\"group E\"))"
   ]
  },
  {
   "cell_type": "code",
   "execution_count": null,
   "metadata": {},
   "outputs": [],
   "source": [
    "fig, ax = plt.subplots(1, 1, figsize=(12, 8))\n",
    "sns.barplot(x=\"lunch\", y=\"reading score\", hue=\"gender\", data=race_ethnicity(\"group E\"))"
   ]
  },
  {
   "cell_type": "code",
   "execution_count": null,
   "metadata": {},
   "outputs": [],
   "source": [
    "fig, ax = plt.subplots(1, 1, figsize=(12, 8))\n",
    "sns.barplot(x=\"lunch\", y=\"writing score\", hue=\"gender\", data=race_ethnicity(\"group E\"))"
   ]
  },
  {
   "cell_type": "markdown",
   "metadata": {},
   "source": [
    "# Analysis of group A"
   ]
  },
  {
   "cell_type": "code",
   "execution_count": null,
   "metadata": {},
   "outputs": [],
   "source": [
    "# People that are Males in group A:\n",
    "race_ethnicity(\"group A\")[race_ethnicity(\"group A\").gender == 'male']"
   ]
  },
  {
   "cell_type": "code",
   "execution_count": null,
   "metadata": {},
   "outputs": [],
   "source": [
    "# People that are females in group A:\n",
    "race_ethnicity(\"group A\")[race_ethnicity(\"group A\").gender == 'female']"
   ]
  },
  {
   "cell_type": "markdown",
   "metadata": {},
   "source": [
    "## Analysis of group A Male gender through the following:\n",
    "## Parental level of education,lunch,Test preparation course"
   ]
  },
  {
   "cell_type": "code",
   "execution_count": null,
   "metadata": {},
   "outputs": [],
   "source": [
    "# Gender,parental level of education,lunch,test preparation course,math score,reading score,writing score in race_ethnicity(\"group A\"):\n",
    "race_ethnicity(\"group A\")[(race_ethnicity(\"group A\").gender == 'male')&(race_ethnicity(\"group A\")['parental level of education'] == 'some college')&(race_ethnicity(\"group A\").lunch =='standard')&(race_ethnicity(\"group A\").lunch =='standard')&(race_ethnicity(\"group A\")['test preparation course'] =='completed')]"
   ]
  },
  {
   "cell_type": "code",
   "execution_count": null,
   "metadata": {},
   "outputs": [],
   "source": [
    "# Gender,parental level of education,lunch,test preparation course,math score,reading score,writing score in race_ethnicity(\"group A\"):\n",
    "race_ethnicity(\"group A\")[(race_ethnicity(\"group A\").gender == 'male')&(race_ethnicity(\"group A\")['parental level of education'] == 'some high school')&(race_ethnicity(\"group A\").lunch =='standard')&(race_ethnicity(\"group A\").lunch =='standard')&(race_ethnicity(\"group A\")['test preparation course'] =='completed')]"
   ]
  },
  {
   "cell_type": "code",
   "execution_count": null,
   "metadata": {},
   "outputs": [],
   "source": [
    "# Gender,parental level of education(high school),lunch,test preparation course,math score,reading score,writing score in race_ethnicity(\"group A\"):\n",
    "race_ethnicity(\"group A\")[(race_ethnicity(\"group A\").gender == 'male')&(race_ethnicity(\"group A\")['parental level of education'] == 'high school')&(race_ethnicity(\"group A\").lunch =='standard')&(race_ethnicity(\"group A\").lunch =='standard')&(race_ethnicity(\"group A\")['test preparation course'] =='completed')]"
   ]
  },
  {
   "cell_type": "code",
   "execution_count": null,
   "metadata": {},
   "outputs": [],
   "source": [
    "# Gender,parental level of education,lunch,test preparation course,math score,reading score,writing score in race_ethnicity(\"group A\"):\n",
    "race_ethnicity(\"group A\")[(race_ethnicity(\"group A\").gender == 'male')&(race_ethnicity(\"group A\")['parental level of education'] == \"bachelor's degree\")&(race_ethnicity(\"group A\").lunch =='standard')&(race_ethnicity(\"group A\")['test preparation course'] =='completed')]"
   ]
  },
  {
   "cell_type": "code",
   "execution_count": null,
   "metadata": {},
   "outputs": [],
   "source": [
    "# Gender,parental level of education(master's degree),lunch,test preparation course,math score,reading score,writing score in race_ethnicity(\"group A\"):\n",
    "race_ethnicity(\"group A\")[(race_ethnicity(\"group A\").gender == 'male')&(race_ethnicity(\"group A\")['parental level of education'] == \"master's degree\")&(race_ethnicity(\"group A\").lunch =='standard')&(race_ethnicity(\"group A\")['test preparation course'] =='completed')]"
   ]
  },
  {
   "cell_type": "code",
   "execution_count": null,
   "metadata": {},
   "outputs": [],
   "source": [
    "# Gender,parental level of education,lunch,test preparation course,math score,reading score,writing score in race_ethnicity(\"group A\"):\n",
    "race_ethnicity(\"group A\")[(race_ethnicity(\"group A\").gender == 'male')&(race_ethnicity(\"group A\")['parental level of education'] == \"associate's degree\")&(race_ethnicity(\"group A\").lunch =='standard')&(race_ethnicity(\"group A\")['test preparation course'] =='completed')]"
   ]
  },
  {
   "cell_type": "code",
   "execution_count": null,
   "metadata": {},
   "outputs": [],
   "source": [
    "# Gender,parental level of education,lunch,test preparation course,math score,reading score,writing score in race_ethnicity(\"group A\"):\n",
    "race_ethnicity(\"group A\")[(race_ethnicity(\"group A\").gender == 'male')&(race_ethnicity(\"group A\")['parental level of education'] == 'some college')&(race_ethnicity(\"group A\").lunch =='standard')&(race_ethnicity(\"group A\").lunch =='standard')&(race_ethnicity(\"group A\")['test preparation course'] =='none')]"
   ]
  },
  {
   "cell_type": "code",
   "execution_count": null,
   "metadata": {},
   "outputs": [],
   "source": [
    "# Gender,parental level of education,lunch,test preparation course,math score,reading score,writing score in race_ethnicity(\"group A\"):\n",
    "race_ethnicity(\"group A\")[(race_ethnicity(\"group A\").gender == 'male')&(race_ethnicity(\"group A\")['parental level of education'] == \"associate's degree\")&(race_ethnicity(\"group A\").lunch =='standard')&(race_ethnicity(\"group A\").lunch =='standard')&(race_ethnicity(\"group A\")['test preparation course'] =='none')]"
   ]
  },
  {
   "cell_type": "code",
   "execution_count": null,
   "metadata": {},
   "outputs": [],
   "source": [
    "# Gender,parental level of education,lunch,test preparation course,math score,reading score,writing score in race_ethnicity(\"group A\"):\n",
    "race_ethnicity(\"group A\")[(race_ethnicity(\"group A\").gender == 'male')&(race_ethnicity(\"group A\")['parental level of education'] == 'some high school')&(race_ethnicity(\"group A\").lunch =='standard')&(race_ethnicity(\"group A\").lunch =='standard')&(race_ethnicity(\"group A\")['test preparation course'] =='none')]"
   ]
  },
  {
   "cell_type": "code",
   "execution_count": null,
   "metadata": {},
   "outputs": [],
   "source": [
    "# Gender,parental level of education,lunch,test preparation course,math score,reading score,writing score in race_ethnicity(\"group A\"):\n",
    "race_ethnicity(\"group A\")[(race_ethnicity(\"group A\").gender == 'male')&(race_ethnicity(\"group A\")['parental level of education'] == \"associate's degree\")&(race_ethnicity(\"group A\").lunch =='standard')&(race_ethnicity(\"group A\")['test preparation course'] =='none')]"
   ]
  },
  {
   "cell_type": "code",
   "execution_count": null,
   "metadata": {},
   "outputs": [],
   "source": [
    "# Gender,parental level of education,lunch,test preparation course,math score,reading score,writing score in race_ethnicity(\"group A\"):\n",
    "race_ethnicity(\"group A\")[(race_ethnicity(\"group A\").gender == 'male')&(race_ethnicity(\"group A\")['parental level of education'] == \"bachelor's degree\")&(race_ethnicity(\"group A\").lunch =='standard')&(race_ethnicity(\"group A\")['test preparation course'] =='none')]"
   ]
  },
  {
   "cell_type": "code",
   "execution_count": null,
   "metadata": {},
   "outputs": [],
   "source": [
    "# Gender,parental level of education,lunch,test preparation course,math score,reading score,writing score in race_ethnicity(\"group A\"):\n",
    "race_ethnicity(\"group A\")[(race_ethnicity(\"group A\").gender == 'male')&(race_ethnicity(\"group A\")['parental level of education'] == \"high school\")&(race_ethnicity(\"group A\").lunch =='standard')&(race_ethnicity(\"group A\")['test preparation course'] =='none')]"
   ]
  },
  {
   "cell_type": "code",
   "execution_count": null,
   "metadata": {},
   "outputs": [],
   "source": [
    "# Gender,parental level of education,lunch,test preparation course,math score,reading score,writing score in race_ethnicity(\"group A\"):\n",
    "race_ethnicity(\"group A\")[(race_ethnicity(\"group A\").gender == 'male')&(race_ethnicity(\"group A\")['parental level of education'] == 'some college')&(race_ethnicity(\"group A\").lunch =='free/reduced')&(race_ethnicity(\"group A\")['test preparation course'] =='none')]"
   ]
  },
  {
   "cell_type": "code",
   "execution_count": null,
   "metadata": {},
   "outputs": [],
   "source": [
    "# Gender,parental level of education,lunch,test preparation course,math score,reading score,writing score in race_ethnicity(\"group A\"):\n",
    "race_ethnicity(\"group A\")[(race_ethnicity(\"group A\").gender == 'male')&(race_ethnicity(\"group A\")['parental level of education'] == \"master's degree\")&(race_ethnicity(\"group A\").lunch =='free/reduced')&(race_ethnicity(\"group A\")['test preparation course'] =='none')]"
   ]
  },
  {
   "cell_type": "code",
   "execution_count": null,
   "metadata": {},
   "outputs": [],
   "source": [
    "# Gender,parental level of education,lunch,test preparation course,math score,reading score,writing score in race_ethnicity(\"group A\"):\n",
    "race_ethnicity(\"group A\")[(race_ethnicity(\"group A\").gender == 'male')&(race_ethnicity(\"group A\")['parental level of education'] == 'some high school')&(race_ethnicity(\"group A\").lunch =='free/reduced')&(race_ethnicity(\"group A\")['test preparation course'] =='none')]"
   ]
  },
  {
   "cell_type": "code",
   "execution_count": null,
   "metadata": {},
   "outputs": [],
   "source": [
    "# Gender,parental level of education,lunch,test preparation course,math score,reading score,writing score in race_ethnicity(\"group A\"):\n",
    "race_ethnicity(\"group A\")[(race_ethnicity(\"group A\").gender == 'male')&(race_ethnicity(\"group A\")['parental level of education'] == \"bachelor's degree\")&(race_ethnicity(\"group A\").lunch =='free/reduced')&(race_ethnicity(\"group A\")['test preparation course'] =='none')]"
   ]
  },
  {
   "cell_type": "code",
   "execution_count": null,
   "metadata": {},
   "outputs": [],
   "source": [
    "# Gender,parental level of education,lunch,test preparation course,math score,reading score,writing score in race_ethnicity(\"group A\"):\n",
    "race_ethnicity(\"group A\")[(race_ethnicity(\"group A\").gender == 'male')&(race_ethnicity(\"group A\")['parental level of education'] == \"associate's degree\")&(race_ethnicity(\"group A\").lunch =='free/reduced')&(race_ethnicity(\"group A\")['test preparation course'] =='none')]"
   ]
  },
  {
   "cell_type": "code",
   "execution_count": null,
   "metadata": {},
   "outputs": [],
   "source": [
    "# Gender,parental level of education,lunch,test preparation course,math score,reading score,writing score in race_ethnicity(\"group A\"):\n",
    "race_ethnicity(\"group A\")[(race_ethnicity(\"group A\").gender == 'male')&(race_ethnicity(\"group A\")['parental level of education'] == \"high school\")&(race_ethnicity(\"group A\").lunch =='free/reduced')&(race_ethnicity(\"group A\")['test preparation course'] =='none')]"
   ]
  },
  {
   "cell_type": "code",
   "execution_count": null,
   "metadata": {},
   "outputs": [],
   "source": [
    "# Gender,parental level of education,lunch,test preparation course,math score,reading score,writing score in race_ethnicity(\"group A\"):\n",
    "race_ethnicity(\"group A\")[(race_ethnicity(\"group A\").gender == 'male')&(race_ethnicity(\"group A\")['parental level of education'] == \"associate's degree\")&(race_ethnicity(\"group A\").lunch =='free/reduced')&(race_ethnicity(\"group A\")['test preparation course'] =='completed')]"
   ]
  },
  {
   "cell_type": "code",
   "execution_count": null,
   "metadata": {},
   "outputs": [],
   "source": [
    "# Gender,parental level of education,lunch,test preparation course,math score,reading score,writing score in race_ethnicity(\"group A\"):\n",
    "race_ethnicity(\"group A\")[(race_ethnicity(\"group A\").gender == 'male')&(race_ethnicity(\"group A\")['parental level of education'] == \"bachelor's degree\")&(race_ethnicity(\"group A\").lunch =='free/reduced')&(race_ethnicity(\"group A\")['test preparation course'] =='completed')]"
   ]
  },
  {
   "cell_type": "code",
   "execution_count": null,
   "metadata": {},
   "outputs": [],
   "source": [
    "# Gender,parental level of education(master's degree),lunch,test preparation course,math score,reading score,writing score in race_ethnicity(\"group A\"):\n",
    "race_ethnicity(\"group A\")[(race_ethnicity(\"group A\").gender == 'male')&(race_ethnicity(\"group A\")['parental level of education'] == \"master's degree\")&(race_ethnicity(\"group A\").lunch =='free/reduced')&(race_ethnicity(\"group A\")['test preparation course'] =='completed')]"
   ]
  },
  {
   "cell_type": "code",
   "execution_count": null,
   "metadata": {},
   "outputs": [],
   "source": [
    "# Gender,parental level of education,lunch,test preparation course,math score,reading score,writing score in race_ethnicity(\"group A\"):\n",
    "race_ethnicity(\"group A\")[(race_ethnicity(\"group A\").gender == 'male')&(race_ethnicity(\"group A\")['parental level of education'] == \"high school\")&(race_ethnicity(\"group A\").lunch =='free/reduced')&(race_ethnicity(\"group A\")['test preparation course'] =='completed')]"
   ]
  },
  {
   "cell_type": "code",
   "execution_count": null,
   "metadata": {},
   "outputs": [],
   "source": [
    "# Gender,parental level of education,lunch,test preparation course,math score,reading score,writing score in race_ethnicity(\"group A\"):\n",
    "race_ethnicity(\"group A\")[(race_ethnicity(\"group A\").gender == 'male')&(race_ethnicity(\"group A\")['parental level of education'] == \"some high school\")&(race_ethnicity(\"group A\").lunch =='free/reduced')&(race_ethnicity(\"group A\")['test preparation course'] =='completed')]"
   ]
  },
  {
   "cell_type": "code",
   "execution_count": null,
   "metadata": {},
   "outputs": [],
   "source": [
    "# Gender,parental level of education,lunch,test preparation course,math score,reading score,writing score in race_ethnicity(\"group A\"):\n",
    "race_ethnicity(\"group A\")[(race_ethnicity(\"group A\").gender == 'male')&(race_ethnicity(\"group A\")['parental level of education'] == \"some college\")&(race_ethnicity(\"group A\").lunch =='free/reduced')&(race_ethnicity(\"group A\")['test preparation course'] =='completed')]"
   ]
  },
  {
   "cell_type": "markdown",
   "metadata": {},
   "source": [
    "## Analysis of group A Female gender through the following:\n",
    "## Parental level of education,lunch,Test preparation course¶"
   ]
  },
  {
   "cell_type": "code",
   "execution_count": null,
   "metadata": {},
   "outputs": [],
   "source": [
    "# Gender,parental level of education,lunch,test preparation course,math score,reading score,writing score in race_ethnicity(\"group A\"):\n",
    "race_ethnicity(\"group A\")[(race_ethnicity(\"group A\").gender == 'female')&(race_ethnicity(\"group A\")['parental level of education'] == 'some college')&(race_ethnicity(\"group A\").lunch =='standard')&(race_ethnicity(\"group A\").lunch =='standard')&(race_ethnicity(\"group A\")['test preparation course'] =='completed')]"
   ]
  },
  {
   "cell_type": "code",
   "execution_count": null,
   "metadata": {},
   "outputs": [],
   "source": [
    "# Gender,parental level of education,lunch,test preparation course,math score,reading score,writing score in race_ethnicity(\"group A\"):\n",
    "race_ethnicity(\"group A\")[(race_ethnicity(\"group A\").gender == 'female')&(race_ethnicity(\"group A\")['parental level of education'] == 'some high school')&(race_ethnicity(\"group A\").lunch =='standard')&(race_ethnicity(\"group A\").lunch =='standard')&(race_ethnicity(\"group A\")['test preparation course'] =='completed')]"
   ]
  },
  {
   "cell_type": "code",
   "execution_count": null,
   "metadata": {},
   "outputs": [],
   "source": [
    "# Gender,parental level of education(high school),lunch,test preparation course,math score,reading score,writing score in race_ethnicity(\"group A\"):\n",
    "race_ethnicity(\"group A\")[(race_ethnicity(\"group A\").gender == 'female')&(race_ethnicity(\"group A\")['parental level of education'] == 'high school')&(race_ethnicity(\"group A\").lunch =='standard')&(race_ethnicity(\"group A\").lunch =='standard')&(race_ethnicity(\"group A\")['test preparation course'] =='completed')]"
   ]
  },
  {
   "cell_type": "code",
   "execution_count": null,
   "metadata": {},
   "outputs": [],
   "source": [
    "# Gender,parental level of education,lunch,test preparation course,math score,reading score,writing score in race_ethnicity(\"group A\"):\n",
    "race_ethnicity(\"group A\")[(race_ethnicity(\"group A\").gender == 'female')&(race_ethnicity(\"group A\")['parental level of education'] == \"bachelor's degree\")&(race_ethnicity(\"group A\").lunch =='standard')&(race_ethnicity(\"group A\")['test preparation course'] =='completed')]"
   ]
  },
  {
   "cell_type": "code",
   "execution_count": null,
   "metadata": {},
   "outputs": [],
   "source": [
    "# Gender,parental level of education(master's degree),lunch,test preparation course,math score,reading score,writing score in race_ethnicity(\"group A\"):\n",
    "race_ethnicity(\"group A\")[(race_ethnicity(\"group A\").gender == 'female')&(race_ethnicity(\"group A\")['parental level of education'] == \"master's degree\")&(race_ethnicity(\"group A\").lunch =='standard')&(race_ethnicity(\"group A\")['test preparation course'] =='completed')]"
   ]
  },
  {
   "cell_type": "code",
   "execution_count": null,
   "metadata": {},
   "outputs": [],
   "source": [
    "# Gender,parental level of education,lunch,test preparation course,math score,reading score,writing score in race_ethnicity(\"group A\"):\n",
    "race_ethnicity(\"group A\")[(race_ethnicity(\"group A\").gender == 'female')&(race_ethnicity(\"group A\")['parental level of education'] == \"associate's degree\")&(race_ethnicity(\"group A\").lunch =='standard')&(race_ethnicity(\"group A\")['test preparation course'] =='completed')]"
   ]
  },
  {
   "cell_type": "code",
   "execution_count": null,
   "metadata": {},
   "outputs": [],
   "source": [
    "# Gender,parental level of education,lunch,test preparation course,math score,reading score,writing score in race_ethnicity(\"group A\"):\n",
    "race_ethnicity(\"group A\")[(race_ethnicity(\"group A\").gender == 'female')&(race_ethnicity(\"group A\")['parental level of education'] == 'some college')&(race_ethnicity(\"group A\").lunch =='standard')&(race_ethnicity(\"group A\").lunch =='standard')&(race_ethnicity(\"group A\")['test preparation course'] =='none')]"
   ]
  },
  {
   "cell_type": "code",
   "execution_count": null,
   "metadata": {},
   "outputs": [],
   "source": [
    "# Gender,parental level of education,lunch,test preparation course,math score,reading score,writing score in race_ethnicity(\"group A\"):\n",
    "race_ethnicity(\"group A\")[(race_ethnicity(\"group A\").gender == 'female')&(race_ethnicity(\"group A\")['parental level of education'] == \"associate's degree\")&(race_ethnicity(\"group A\").lunch =='standard')&(race_ethnicity(\"group A\").lunch =='standard')&(race_ethnicity(\"group A\")['test preparation course'] =='none')]"
   ]
  },
  {
   "cell_type": "code",
   "execution_count": null,
   "metadata": {},
   "outputs": [],
   "source": [
    "# Gender,parental level of education,lunch,test preparation course,math score,reading score,writing score in race_ethnicity(\"group A\"):\n",
    "race_ethnicity(\"group A\")[(race_ethnicity(\"group A\").gender == 'female')&(race_ethnicity(\"group A\")['parental level of education'] == 'some high school')&(race_ethnicity(\"group A\").lunch =='standard')&(race_ethnicity(\"group A\").lunch =='standard')&(race_ethnicity(\"group A\")['test preparation course'] =='none')]"
   ]
  },
  {
   "cell_type": "code",
   "execution_count": null,
   "metadata": {},
   "outputs": [],
   "source": [
    "# Gender,parental level of education,lunch,test preparation course,math score,reading score,writing score in race_ethnicity(\"group A\"):\n",
    "race_ethnicity(\"group A\")[(race_ethnicity(\"group A\").gender == 'female')&(race_ethnicity(\"group A\")['parental level of education'] == \"associate's degree\")&(race_ethnicity(\"group A\").lunch =='standard')&(race_ethnicity(\"group A\")['test preparation course'] =='none')]"
   ]
  },
  {
   "cell_type": "code",
   "execution_count": null,
   "metadata": {},
   "outputs": [],
   "source": [
    "# Gender,parental level of education,lunch,test preparation course,math score,reading score,writing score in race_ethnicity(\"group A\"):\n",
    "race_ethnicity(\"group A\")[(race_ethnicity(\"group A\").gender == 'female')&(race_ethnicity(\"group A\")['parental level of education'] == \"bachelor's degree\")&(race_ethnicity(\"group A\").lunch =='standard')&(race_ethnicity(\"group A\")['test preparation course'] =='none')]"
   ]
  },
  {
   "cell_type": "code",
   "execution_count": null,
   "metadata": {},
   "outputs": [],
   "source": [
    "# Gender,parental level of education,lunch,test preparation course,math score,reading score,writing score in race_ethnicity(\"group A\"):\n",
    "race_ethnicity(\"group A\")[(race_ethnicity(\"group A\").gender == 'female')&(race_ethnicity(\"group A\")['parental level of education'] == \"high school\")&(race_ethnicity(\"group A\").lunch =='standard')&(race_ethnicity(\"group A\")['test preparation course'] =='none')]"
   ]
  },
  {
   "cell_type": "code",
   "execution_count": null,
   "metadata": {},
   "outputs": [],
   "source": [
    "# Gender,parental level of education,lunch,test preparation course,math score,reading score,writing score in race_ethnicity(\"group A\"):\n",
    "race_ethnicity(\"group A\")[(race_ethnicity(\"group A\").gender == 'female')&(race_ethnicity(\"group A\")['parental level of education'] == 'some college')&(race_ethnicity(\"group A\").lunch =='free/reduced')&(race_ethnicity(\"group A\")['test preparation course'] =='none')]"
   ]
  },
  {
   "cell_type": "code",
   "execution_count": null,
   "metadata": {},
   "outputs": [],
   "source": [
    "# Gender,parental level of education,lunch,test preparation course,math score,reading score,writing score in race_ethnicity(\"group A\"):\n",
    "race_ethnicity(\"group A\")[(race_ethnicity(\"group A\").gender == 'female')&(race_ethnicity(\"group A\")['parental level of education'] == \"master's degree\")&(race_ethnicity(\"group A\").lunch =='free/reduced')&(race_ethnicity(\"group A\")['test preparation course'] =='none')]"
   ]
  },
  {
   "cell_type": "code",
   "execution_count": null,
   "metadata": {},
   "outputs": [],
   "source": [
    "# Gender,parental level of education,lunch,test preparation course,math score,reading score,writing score in race_ethnicity(\"group A\"):\n",
    "race_ethnicity(\"group A\")[(race_ethnicity(\"group A\").gender == 'female')&(race_ethnicity(\"group A\")['parental level of education'] == 'some high school')&(race_ethnicity(\"group A\").lunch =='free/reduced')&(race_ethnicity(\"group A\")['test preparation course'] =='none')]"
   ]
  },
  {
   "cell_type": "code",
   "execution_count": null,
   "metadata": {},
   "outputs": [],
   "source": [
    "# Gender,parental level of education,lunch,test preparation course,math score,reading score,writing score in race_ethnicity(\"group A\"):\n",
    "race_ethnicity(\"group A\")[(race_ethnicity(\"group A\").gender == 'female')&(race_ethnicity(\"group A\")['parental level of education'] == \"bachelor's degree\")&(race_ethnicity(\"group A\").lunch =='free/reduced')&(race_ethnicity(\"group A\")['test preparation course'] =='none')]"
   ]
  },
  {
   "cell_type": "code",
   "execution_count": null,
   "metadata": {},
   "outputs": [],
   "source": [
    "# Gender,parental level of education,lunch,test preparation course,math score,reading score,writing score in race_ethnicity(\"group A\"):\n",
    "race_ethnicity(\"group A\")[(race_ethnicity(\"group A\").gender == 'female')&(race_ethnicity(\"group A\")['parental level of education'] == \"associate's degree\")&(race_ethnicity(\"group A\").lunch =='free/reduced')&(race_ethnicity(\"group A\")['test preparation course'] =='none')]"
   ]
  },
  {
   "cell_type": "code",
   "execution_count": null,
   "metadata": {},
   "outputs": [],
   "source": [
    "# Gender,parental level of education,lunch,test preparation course,math score,reading score,writing score in race_ethnicity(\"group A\"):\n",
    "race_ethnicity(\"group A\")[(race_ethnicity(\"group A\").gender == 'female')&(race_ethnicity(\"group A\")['parental level of education'] == \"high school\")&(race_ethnicity(\"group A\").lunch =='free/reduced')&(race_ethnicity(\"group A\")['test preparation course'] =='none')]"
   ]
  },
  {
   "cell_type": "code",
   "execution_count": null,
   "metadata": {},
   "outputs": [],
   "source": [
    "# Gender,parental level of education,lunch,test preparation course,math score,reading score,writing score in race_ethnicity(\"group A\"):\n",
    "race_ethnicity(\"group A\")[(race_ethnicity(\"group A\").gender == 'female')&(race_ethnicity(\"group A\")['parental level of education'] == \"associate's degree\")&(race_ethnicity(\"group A\").lunch =='free/reduced')&(race_ethnicity(\"group A\")['test preparation course'] =='completed')]"
   ]
  },
  {
   "cell_type": "code",
   "execution_count": null,
   "metadata": {},
   "outputs": [],
   "source": [
    "# Gender,parental level of education,lunch,test preparation course,math score,reading score,writing score in race_ethnicity(\"group A\"):\n",
    "race_ethnicity(\"group A\")[(race_ethnicity(\"group A\").gender == 'female')&(race_ethnicity(\"group A\")['parental level of education'] == \"bachelor's degree\")&(race_ethnicity(\"group A\").lunch =='free/reduced')&(race_ethnicity(\"group A\")['test preparation course'] =='completed')]"
   ]
  },
  {
   "cell_type": "code",
   "execution_count": null,
   "metadata": {},
   "outputs": [],
   "source": [
    "# Gender,parental level of education(master's degree),lunch,test preparation course,math score,reading score,writing score in race_ethnicity(\"group A\"):\n",
    "race_ethnicity(\"group A\")[(race_ethnicity(\"group A\").gender == 'female')&(race_ethnicity(\"group A\")['parental level of education'] == \"master's degree\")&(race_ethnicity(\"group A\").lunch =='free/reduced')&(race_ethnicity(\"group A\")['test preparation course'] =='completed')]"
   ]
  },
  {
   "cell_type": "code",
   "execution_count": null,
   "metadata": {},
   "outputs": [],
   "source": [
    "# Gender,parental level of education,lunch,test preparation course,math score,reading score,writing score in race_ethnicity(\"group A\"):\n",
    "race_ethnicity(\"group A\")[(race_ethnicity(\"group A\").gender == 'female')&(race_ethnicity(\"group A\")['parental level of education'] == \"high school\")&(race_ethnicity(\"group A\").lunch =='free/reduced')&(race_ethnicity(\"group A\")['test preparation course'] =='completed')]"
   ]
  },
  {
   "cell_type": "code",
   "execution_count": null,
   "metadata": {},
   "outputs": [],
   "source": [
    "# Gender,parental level of education,lunch,test preparation course,math score,reading score,writing score in race_ethnicity(\"group A\"):\n",
    "race_ethnicity(\"group A\")[(race_ethnicity(\"group A\").gender == 'female')&(race_ethnicity(\"group A\")['parental level of education'] == \"some high school\")&(race_ethnicity(\"group A\").lunch =='free/reduced')&(race_ethnicity(\"group A\")['test preparation course'] =='completed')]"
   ]
  },
  {
   "cell_type": "code",
   "execution_count": null,
   "metadata": {},
   "outputs": [],
   "source": [
    "# Gender,parental level of education,lunch,test preparation course,math score,reading score,writing score in race_ethnicity(\"group A\"):\n",
    "race_ethnicity(\"group A\")[(race_ethnicity(\"group A\").gender == 'female')&(race_ethnicity(\"group A\")['parental level of education'] == \"some college\")&(race_ethnicity(\"group A\").lunch =='free/reduced')&(race_ethnicity(\"group A\")['test preparation course'] =='completed')]"
   ]
  },
  {
   "cell_type": "code",
   "execution_count": null,
   "metadata": {},
   "outputs": [],
   "source": []
  }
 ],
 "metadata": {
  "kernelspec": {
   "display_name": "Python 3",
   "language": "python",
   "name": "python3"
  },
  "language_info": {
   "codemirror_mode": {
    "name": "ipython",
    "version": 3
   },
   "file_extension": ".py",
   "mimetype": "text/x-python",
   "name": "python",
   "nbconvert_exporter": "python",
   "pygments_lexer": "ipython3",
   "version": "3.7.3"
  }
 },
 "nbformat": 4,
 "nbformat_minor": 4
}
